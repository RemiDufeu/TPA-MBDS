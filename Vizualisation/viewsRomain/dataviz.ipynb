{
  "cells": [
    {
      "cell_type": "code",
      "execution_count": 20,
      "metadata": {},
      "outputs": [
        {
          "name": "stderr",
          "output_type": "stream",
          "text": [
            "                                                                                                                                                                                                                                                                                                                                                                                                                                                                                                                                                                                                                                                                                                                                                                                                                                                                                                                                                                                                                                        \r"
          ]
        },
        {
          "name": "stdout",
          "output_type": "stream",
          "text": [
            "+---------------+----------+------------+---------+--------+--------+--------+-------+--------+-----+\n",
            "|Immatriculation|    Marque|         Nom|Puissance|Longueur|NbPlaces|NbPortes|Couleur|Occasion| Prix|\n",
            "+---------------+----------+------------+---------+--------+--------+--------+-------+--------+-----+\n",
            "|     3176 TS 67|   Renault| Laguna 2.0T|      170|  longue|       5|       5|  blanc|   false|27300|\n",
            "|     3721 QS 49|     Volvo|      S80 T6|      272|      tr|       5|       5|   noir|   false|50500|\n",
            "|     9099 UV 26|Volkswagen|Golf 2.0 FSI|      150| moyenne|       5|       5|   gris|    true|16029|\n",
            "|     3563 LA 55|   Peugeot|    1007 1.4|       75|  courte|       5|       5|  blanc|    true| 9625|\n",
            "|     6963 AX 34|      Audi|      A2 1.4|       75|  courte|       5|       5|   gris|   false|18310|\n",
            "+---------------+----------+------------+---------+--------+--------+--------+-------+--------+-----+\n",
            "only showing top 5 rows\n",
            "\n"
          ]
        },
        {
          "name": "stderr",
          "output_type": "stream",
          "text": [
            "                                                                                                                                                                                                                                                                                                                                                                                                                                                                                                                                                                                                                                                                                                                                                                                                                                                                                                                                                                                                                                        \r"
          ]
        },
        {
          "name": "stdout",
          "output_type": "stream",
          "text": [
            "+----------+-------------+-----------------+----------+\n",
            "|    MARQUE|          NOM|        avg(PRIX)|count(NOM)|\n",
            "+----------+-------------+-----------------+----------+\n",
            "|       Kia|  Picanto 1.1|           8990.0|     22106|\n",
            "|  Mercedes|         S500|82521.70324110215|    103761|\n",
            "|Volkswagen|  Polo 1.2 6V| 11369.1118363481|     97133|\n",
            "|    Jaguar|X-Type 2.5 V6|33876.56799568282|    189012|\n",
            "|     Dacia|Logan 1.6 MPI|           7500.0|     13973|\n",
            "+----------+-------------+-----------------+----------+\n",
            "only showing top 5 rows\n",
            "\n"
          ]
        },
        {
          "name": "stderr",
          "output_type": "stream",
          "text": [
            "                                                                                                                                                                                                                                                                                                                                                                                                                                                                                                                                                                                                                                                                                                                                                                                                                                                                                                                                                                                                                                        \r"
          ]
        }
      ],
