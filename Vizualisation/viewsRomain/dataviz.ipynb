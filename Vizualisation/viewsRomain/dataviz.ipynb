{
  "cells": [
    {
      "cell_type": "code",
      "execution_count": 20,
      "metadata": {},
      "outputs": [
        {
          "name": "stderr",
          "output_type": "stream",
          "text": [
            "                                                                                                                                                                                                                                                                                                                                                                                                                                                                                                                                                                                                                                                                                                                                                                                                                                                                                                                                                                                                                                        \r"
          ]
        },
        {
          "name": "stdout",
          "output_type": "stream",
          "text": [
            "+---------------+----------+------------+---------+--------+--------+--------+-------+--------+-----+\n",
            "|Immatriculation|    Marque|         Nom|Puissance|Longueur|NbPlaces|NbPortes|Couleur|Occasion| Prix|\n",
            "+---------------+----------+------------+---------+--------+--------+--------+-------+--------+-----+\n",
            "|     3176 TS 67|   Renault| Laguna 2.0T|      170|  longue|       5|       5|  blanc|   false|27300|\n",
            "|     3721 QS 49|     Volvo|      S80 T6|      272|      tr|       5|       5|   noir|   false|50500|\n",
            "|     9099 UV 26|Volkswagen|Golf 2.0 FSI|      150| moyenne|       5|       5|   gris|    true|16029|\n",
            "|     3563 LA 55|   Peugeot|    1007 1.4|       75|  courte|       5|       5|  blanc|    true| 9625|\n",
            "|     6963 AX 34|      Audi|      A2 1.4|       75|  courte|       5|       5|   gris|   false|18310|\n",
            "+---------------+----------+------------+---------+--------+--------+--------+-------+--------+-----+\n",
            "only showing top 5 rows\n",
            "\n"
          ]
        },
        {
          "name": "stderr",
          "output_type": "stream",
          "text": [
            "                                                                                                                                                                                                                                                                                                                                                                                                                                                                                                                                                                                                                                                                                                                                                                                                                                                                                                                                                                                                                                        \r"
          ]
        },
        {
          "name": "stdout",
          "output_type": "stream",
          "text": [
            "+----------+-------------+-----------------+----------+\n",
            "|    MARQUE|          NOM|        avg(PRIX)|count(NOM)|\n",
            "+----------+-------------+-----------------+----------+\n",
            "|       Kia|  Picanto 1.1|           8990.0|     22106|\n",
            "|  Mercedes|         S500|82521.70324110215|    103761|\n",
            "|Volkswagen|  Polo 1.2 6V| 11369.1118363481|     97133|\n",
            "|    Jaguar|X-Type 2.5 V6|33876.56799568282|    189012|\n",
            "|     Dacia|Logan 1.6 MPI|           7500.0|     13973|\n",
            "+----------+-------------+-----------------+----------+\n",
            "only showing top 5 rows\n",
            "\n"
          ]
        },
        {
          "name": "stderr",
          "output_type": "stream",
          "text": [
            "                                                                                                                                                                                                                                                                                                                                                                                                                                                                                                                                                                                                                                                                                                                                                                                                                                                                                                                                                                                                                                        \r"
          ]
        }
      ],
      "source": [
        "import os\n",
        "import random\n",
        "import string\n",
        "from pyspark.context import SparkContext\n",
        "from pyspark.sql.session import SparkSession\n",
        "from pyspark import SparkConf, SparkContext\n",
        "import pandas as pd\n",
        "import json\n",
        "\n",
        "conf = SparkConf().setAppName(\"appName\").setMaster(\"local\")\n",
        "sc = SparkContext.getOrCreate(conf=conf)\n",
        "spark = SparkSession(sc)\n",
        "\n",
        "# Load data https://media.githubusercontent.com/media/RemiDufeu/TPA-MBDS/main/DATA%20extraction/dataSources/Immatriculation.csv\n",
        "df = spark.read.csv(\"Immatriculation.csv\", header=True, inferSchema=True)\n",
        "\n",
        "# get all the different marques\n",
        "marques = df.select(\"MARQUE\").distinct().collect()\n",
        "\n",
        "# create a json object with the format [\n",
        "#  {\n",
        "#   \"id\": \"marque\"  # the name of the marque without capital letters and spaces\n",
        "#   \"name\": \"marque\",   # the name of the marque\n",
        "#   },]\n",
        "df.show(5)\n",
        "marques_json = []\n",
        "for marque in marques:\n",
        "    marque = marque[0]\n",
        "    id = marque.lower().replace(\" \", \"\")\n",
        "    marques_json.append({\"id\": id, \"name\": marque})\n",
        "marques_json = json.dumps(marques_json)\n",
        "\n",
        "# group by model and count the number of cars and get the average price\n",
        "df = df.groupBy(\"MARQUE\", \"NOM\").agg({\"PRIX\": \"avg\", \"NOM\": \"count\"})\n",
        "\n",
        "df.show(5)\n",
        "# create a json object with the format [\n",
        "#  {\n",
        "#   \"id\": \"ttvalue\"  # tt+random value\n",
        "#   \"marque\": \"marque\",   # the name of the marque\n",
        "#   \"name\": \"nom\",   # the name of the marque\n",
        "#   \"parent\": \"marque\" # the name of the marque without capital letters and spaces\n",
        "#   \"value\": \"count\" Count of cars nom\n",
        "#   \"price\": \"avg\" Average price of cars PRIX\n",
        "#   },]\n",
        "df_json = []\n",
        "for row in df.collect():\n",
        "    marque = row[0]\n",
        "    nom = row[1]\n",
        "    count = row[3]\n",
        "    avg = row[2]\n",
        "    id = \"tt\" + ''.join(random.choice(string.digits) for _ in range(5))\n",
        "    parent = marque.lower().replace(\" \", \"\")\n",
        "    df_json.append({\"id\": id, \"marque\":marque, \"name\": nom, \"parent\": parent, \"value\": count, \"price\": avg})    \n",
        "df_json = json.dumps(df_json)\n",
        "\n",
        "# Merge the two json objects\n",
        "marques_json = marques_json[:-1] + \",\" + df_json[1:]\n",
        "\n",
        "\n",
        "\n",
        "# write the json object to a file with \\n\n",
        "with open(\"data.json\", \"w\") as f:\n",
        "    f.write(marques_json)"
      ]
    },
    {
      "cell_type": "code",
      "execution_count": 13,
      "metadata": {},
      "outputs": [],
      "source": [
        "import os\n",
        "import random\n",
        "import string\n",
        "from pyspark.context import SparkContext\n",
        "from pyspark.sql.session import SparkSession\n",
        "from pyspark import SparkConf, SparkContext\n",
        "import pandas as pd\n",
        "import json\n",
        "\n",
        "conf = SparkConf().setAppName(\"appName\").setMaster(\"local\")\n",
        "sc = SparkContext.getOrCreate(conf=conf)\n",
        "spark = SparkSession(sc)\n",
        "\n",
        "# import json file\n",
        "\n",
        "# Download the file from `url` and save it locally under `file_name`:\n",
        "import urllib.request\n",
        "url = \"https://raw.githubusercontent.com/RomainCaret/datajson/b9e5a8f537ef7f3375fc1cb48f2b992c35080247/data.json\"\n",
        "urllib.request.urlretrieve(url, \"dataOrigin.json\")\n",
        "\n",
        "\n",
        "\n",
        "with open(\"dataOrigin.json\", \"r\") as f:\n",
        "    data = json.load(f)\n",
        "\n",
        "    # transform the data into json format\n",
        "    data = json.dumps(data)\n",
        "\n",
        "    # write the json object to a file with \\n\n",
        "    with open(\"data2.json\", \"w\") as f:\n",
        "        f.write(data)\n",
        "\n",
        "    "
      ]
    }
  ],
  "metadata": {
    "kernel_info": {
      "name": "python3"
    },
    "kernelspec": {
      "display_name": "Python 3 (ipykernel)",
      "language": "python",
      "name": "python3"
    },
    "language_info": {
      "codemirror_mode": {
        "name": "ipython",
        "version": 3
      },
      "file_extension": ".py",
      "mimetype": "text/x-python",
      "name": "python",
      "nbconvert_exporter": "python",
      "pygments_lexer": "ipython3",
      "version": "3.8.5"
    },
    "nteract": {
      "version": "nteract-front-end@1.0.0"
    },
    "orig_nbformat": 4,
    "vscode": {
      "interpreter": {
        "hash": "6d65a8c07f5b6469e0fc613f182488c0dccce05038bbda39e5ac9075c0454d11"
      }
    }
  },
  "nbformat": 4,
  "nbformat_minor": 2
}
